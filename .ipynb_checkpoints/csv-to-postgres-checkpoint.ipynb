{
 "cells": [
  {
   "cell_type": "markdown",
   "metadata": {},
   "source": [
    "Project 2\n",
    "Michael Bell\n",
    "Rob Chesser\n",
    "Adam Durar"
   ]
  },
  {
   "cell_type": "code",
   "execution_count": null,
   "metadata": {},
   "outputs": [],
   "source": [
    "import pandas as pd\n",
    "import numpy as np\n",
    "import os\n",
    "import glob\n",
    "from sqlalchemy import create_engine\n",
    "from sqlalchemy_utils import database_exists, create_database\n",
    "#pip install sqlalchemy-utils for the above"
   ]
  },
  {
   "cell_type": "markdown",
   "metadata": {},
   "source": [
    "Get list of CSV's from each data set"
   ]
  },
  {
   "cell_type": "code",
   "execution_count": null,
   "metadata": {},
   "outputs": [],
   "source": [
    "path = './quandl_csv'\n",
    "all_files = glob.glob(os.path.join(path, \"*.csv\"))\n",
    "\n",
    "li = []\n",
    "\n",
    "for filename in all_files:\n",
    "    fn, ext = os.path.splitext(os.path.basename(filename))\n",
    "    df = pd.read_csv(filename, index_col=None, header=0)\n",
    "    df = df[['Date','Adj_Open','Adj_Close']]\n",
    "    df = df.rename(columns={\"Date\": \"date\", \"Adj_Open\": \"adj_open\", \"Adj_Close\": \"adj_close\"})\n",
    "    df['symbol'] = fn\n",
    "    li.append(df)\n",
    "    \n",
    "li\n"
   ]
  },
  {
   "cell_type": "code",
   "execution_count": null,
   "metadata": {},
   "outputs": [],
   "source": [
    "# path = './csv/dj2'\n",
    "# all_files = glob.glob(os.path.join(path, \"*.csv\"))\n",
    "\n",
    "# li2 = []\n",
    "\n",
    "# for filename in all_files:\n",
    "#     fn, ext = os.path.splitext(os.path.basename(filename))\n",
    "#     df = pd.read_csv(filename, index_col=None, header=0)\n",
    "#     df = df[['date','open','close']]\n",
    "#     df['symbol'] = fn\n",
    "#     li2.append(df)\n"
   ]
  },
  {
   "cell_type": "markdown",
   "metadata": {},
   "source": [
    "Flatten DF Lists into DF"
   ]
  },
  {
   "cell_type": "code",
   "execution_count": null,
   "metadata": {},
   "outputs": [],
   "source": [
    "#djdata2 = pd.concat(li2, axis=0, ignore_index=True)\n",
    "djdata = pd.concat(li, axis=0, ignore_index=True)\n",
    "djdata.head()"
   ]
  },
  {
   "cell_type": "markdown",
   "metadata": {},
   "source": [
    "Flatten DF Lists into final DF"
   ]
  },
  {
   "cell_type": "code",
   "execution_count": null,
   "metadata": {},
   "outputs": [],
   "source": [
    "#djdata3 = [djdata,djdata2]\n",
    "#djdata2 = pd.concat(djdata, axis=0, ignore_index=True)"
   ]
  },
  {
   "cell_type": "markdown",
   "metadata": {},
   "source": [
    "Print Row/Col counts"
   ]
  },
  {
   "cell_type": "code",
   "execution_count": null,
   "metadata": {},
   "outputs": [],
   "source": [
    "#print(djdata.shape)\n",
    "#print(djdata2.shape)\n",
    "print(djdata.shape)"
   ]
  },
  {
   "cell_type": "markdown",
   "metadata": {},
   "source": [
    "Drop duplicates based on symbol & date columns"
   ]
  },
  {
   "cell_type": "code",
   "execution_count": null,
   "metadata": {},
   "outputs": [],
   "source": [
    "# cols = ['symbol','date']\n",
    "# djdata4.drop_duplicates(subset=cols, keep='first', inplace=True)\n",
    "# print(djdata4.shape)"
   ]
  },
  {
   "cell_type": "markdown",
   "metadata": {},
   "source": [
    "Connect to database or create if it doesn't exist"
   ]
  },
  {
   "cell_type": "code",
   "execution_count": null,
   "metadata": {},
   "outputs": [],
   "source": [
    "connection_string = \"postgres:Issimo86*@localhost:5432/tbm\"\n",
    "engine = create_engine(f'postgresql://{connection_string}')\n",
    "if not database_exists(engine.url):  #pip install sqlalchemy-utils\n",
    "    create_database(engine.url)"
   ]
  },
  {
   "cell_type": "markdown",
   "metadata": {},
   "source": [
    "Drop table if it exists"
   ]
  },
  {
   "cell_type": "code",
   "execution_count": null,
   "metadata": {},
   "outputs": [],
   "source": [
    "engine.execute('DROP TABLE if exists \"stock_data\"')"
   ]
  },
  {
   "cell_type": "markdown",
   "metadata": {},
   "source": [
    "Check to be sure the table is dropped"
   ]
  },
  {
   "cell_type": "code",
   "execution_count": null,
   "metadata": {},
   "outputs": [],
   "source": [
    "engine.table_names()"
   ]
  },
  {
   "cell_type": "markdown",
   "metadata": {},
   "source": [
    "Create fresh table"
   ]
  },
  {
   "cell_type": "code",
   "execution_count": null,
   "metadata": {},
   "outputs": [],
   "source": [
    "from sqlalchemy import Table, Column, Integer, String, MetaData, Float, Date, ForeignKey\n",
    "\n",
    "metadata = MetaData()\n",
    "sdata = Table('stock_data', metadata,\n",
    "     Column('id', Integer, primary_key=True),\n",
    "     Column('date', Date),\n",
    "     Column('adj_open', Float),\n",
    "     Column('adj_close', Float),\n",
    "     Column('symbol', String),\n",
    ")\n",
    "\n",
    "metadata.create_all(engine)\n"
   ]
  },
  {
   "cell_type": "markdown",
   "metadata": {},
   "source": [
    "Check if table is created"
   ]
  },
  {
   "cell_type": "code",
   "execution_count": null,
   "metadata": {},
   "outputs": [],
   "source": [
    "engine.table_names()"
   ]
  },
  {
   "cell_type": "markdown",
   "metadata": {},
   "source": [
    "Set the index to the id field and reset the index count after concat"
   ]
  },
  {
   "cell_type": "code",
   "execution_count": null,
   "metadata": {},
   "outputs": [],
   "source": [
    "djdata.index.name = 'id'\n",
    "djdata.reset_index()\n",
    "djdata.head()\n",
    "djdata.columns"
   ]
  },
  {
   "cell_type": "code",
   "execution_count": null,
   "metadata": {},
   "outputs": [],
   "source": [
    "#df.loc[df['column_name'] == some_value]\n",
    "yrs = []\n",
    "for dt in djdata['date']:\n",
    "    if dt[-4:] not in yrs:\n",
    "        yrs.append(dt[-4:]) \n",
    "yrs\n",
    "\n",
    "# for index, row in df.iterrows():\n",
    "#     print(row['c1'], row['c2'])\n",
    "# for yr in yrs:\n",
    "#     djdata\n",
    "\n",
    "# for index, row in djdata.iterrows();\n",
    "#     if row['date'] \n",
    "    "
   ]
  },
  {
   "cell_type": "markdown",
   "metadata": {},
   "source": [
    "Insert data into Postgres"
   ]
  },
  {
   "cell_type": "code",
   "execution_count": null,
   "metadata": {},
   "outputs": [],
   "source": [
    "djdata.to_sql(name='stock_data', con=engine, if_exists='append', index=True)"
   ]
  },
  {
   "cell_type": "markdown",
   "metadata": {},
   "source": [
    "Show sample data"
   ]
  },
  {
   "cell_type": "code",
   "execution_count": null,
   "metadata": {},
   "outputs": [],
   "source": [
    "engine.execute('SELECT * FROM stock_data LIMIT 5').fetchall()"
   ]
  },
  {
   "cell_type": "markdown",
   "metadata": {},
   "source": [
    "Check row counts"
   ]
  },
  {
   "cell_type": "code",
   "execution_count": null,
   "metadata": {},
   "outputs": [],
   "source": [
    "engine.execute('SELECT count(*) FROM stock_data').fetchall()"
   ]
  },
  {
   "cell_type": "code",
   "execution_count": null,
   "metadata": {},
   "outputs": [],
   "source": [
    "from sqlalchemy.sql import select\n",
    "from sqlalchemy import text\n",
    "from sqlalchemy.sql import and_, or_, not_\n",
    "from datetime import datetime\n",
    "datetime.strptime('2012-02-10' , '%Y-%m-%d')\n",
    "\n",
    "years = engine.execute('SELECT distinct(EXTRACT(YEAR FROM date)) as year FROM stock_data order by year ').fetchall()\n",
    "\n",
    "for year in years:\n",
    "    yeartxt = int(year['year']) \n",
    "    #print(sdata.c.date.)\n",
    "    #query = text(\"select min(date), open,close from stock_data where date like 'yeartext' order by year\")\n",
    "    #s = select([sdata.c.date.like('year%')])\n",
    "    sd = f\"{yeartxt}-01-01\"\n",
    "    sd = datetime.strptime(sd, '%Y-%m-%d')\n",
    "    sd = sd.date()\n",
    "    ed = f\"{yeartxt}-12-31\"\n",
    "    ed = datetime.strptime(ed, '%Y-%m-%d')\n",
    "    ed = ed.date()\n",
    "\n",
    "    print(sd, ed)\n",
    "    q = select([sdata.c.date]).where(or_(sdata.c.date == ed))\n",
    "    break\n",
    "\n",
    "#print(or_(sdata.c.date == sd,sdata.c.date == ed))\n",
    "    \n",
    "#     >>> s = select([(users.c.fullname +\n",
    "# ...               \", \" + addresses.c.email_address).\n",
    "# ...                label('title')]).\\\n",
    "# ...        where(\n",
    "# ...           and_(\n",
    "# ...               users.c.id == addresses.c.user_id,\n",
    "# ...               users.c.name.between('m', 'z'),\n",
    "# ...               or_(\n",
    "# ...                  addresses.c.email_address.like('%@aol.com'),\n",
    "# ...                  addresses.c.email_address.like('%@msn.com')\n",
    "# ...               )\n",
    "# ...           )\n",
    "# ...        )\n",
    "engine.execute(s).fetchall()\n",
    "\n"
   ]
  },
  {
   "cell_type": "code",
   "execution_count": null,
   "metadata": {},
   "outputs": [],
   "source": []
  }
 ],
 "metadata": {
  "kernelspec": {
   "display_name": "Python 3",
   "language": "python",
   "name": "python3"
  },
  "language_info": {
   "codemirror_mode": {
    "name": "ipython",
    "version": 3
   },
   "file_extension": ".py",
   "mimetype": "text/x-python",
   "name": "python",
   "nbconvert_exporter": "python",
   "pygments_lexer": "ipython3",
   "version": "3.7.3"
  }
 },
 "nbformat": 4,
 "nbformat_minor": 2
}
